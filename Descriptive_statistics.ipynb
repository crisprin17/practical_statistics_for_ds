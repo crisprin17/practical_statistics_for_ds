{
 "cells": [
  {
   "cell_type": "markdown",
   "metadata": {},
   "source": [
    "# Standard deviation by hand\n",
    "In the video, we talked about measures of variability, and discussed standard deviation as the measure that is used most commonly. It's pretty important that you have a grasp on this concept, as interviewers will likely hit on it early on in the process through a coding assignment or something more conceptual.\n",
    "\n",
    "Here, you'll simulate this experience by computing standard deviation by hand, meaning that you won't use any existing functions like std() to get your results."
   ]
  },
  {
   "cell_type": "code",
   "execution_count": null,
   "metadata": {},
   "outputs": [],
   "source": [
    "# Create a sample list\n",
    "import math\n",
    "nums = [1, 2, 3, 4, 5]\n",
    "\n",
    "# Compute the mean of the list\n",
    "mean = sum(nums) / len(nums)\n",
    "\n",
    "# Compute the variance and print the std of the list\n",
    "variance = sum(pow(x - mean, 2) for x in nums) / len(nums)\n",
    "std = pow(variance, 1/2)\n",
    "print(std)\n",
    "\n",
    "# Compute and print the actual result from numpy\n",
    "real_std = np.array(nums).std()\n",
    "print(real_std)"
   ]
  }
 ],
 "metadata": {
  "kernelspec": {
   "display_name": "Python 3",
   "language": "python",
   "name": "python3"
  },
  "language_info": {
   "codemirror_mode": {
    "name": "ipython",
    "version": 3
   },
   "file_extension": ".py",
   "mimetype": "text/x-python",
   "name": "python",
   "nbconvert_exporter": "python",
   "pygments_lexer": "ipython3",
   "version": "3.7.6"
  }
 },
 "nbformat": 4,
 "nbformat_minor": 4
}

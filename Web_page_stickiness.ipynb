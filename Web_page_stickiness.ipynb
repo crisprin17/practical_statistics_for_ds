{
 "cells": [
  {
   "cell_type": "markdown",
   "metadata": {},
   "source": [
    "<b>Created by:</b> Cristiana Principato\n",
    "\n",
    "<b>Date:</b> 04/30/2020\n",
    "\n",
    "<b>Description:</b> Test which of two presentations does a better job at selling. USE PERMUTATION TEST\n",
    "\n",
    "<b>Input:</b> csv file\n",
    "\n",
    "<b>Output:</b> \n"
   ]
  },
  {
   "cell_type": "code",
   "execution_count": 58,
   "metadata": {},
   "outputs": [],
   "source": [
    "import pandas as pd\n",
    "import seaborn as sns\n",
    "import random\n",
    "import numpy as np\n",
    "import matplotlib.pyplot as plt"
   ]
  },
  {
   "cell_type": "code",
   "execution_count": 2,
   "metadata": {},
   "outputs": [],
   "source": [
    "web_data = pd.read_csv('web_page_data.csv')"
   ]
  },
  {
   "cell_type": "code",
   "execution_count": 5,
   "metadata": {},
   "outputs": [],
   "source": [
    "web_data_pageA = web_data[web_data['Page']=='Page A']\n",
    "web_data_pageB = web_data[web_data['Page']=='Page B']"
   ]
  },
  {
   "cell_type": "markdown",
   "metadata": {},
   "source": [
    "### Visualize the results\n"
   ]
  },
  {
   "cell_type": "code",
   "execution_count": 13,
   "metadata": {},
   "outputs": [
    {
     "data": {
      "image/png": "[encoded data removed]",
      "text/plain": [
       "<Figure size 432x288 with 1 Axes>"
      ]
     },
     "metadata": {
      "needs_background": "light"
     },
     "output_type": "display_data"
    }
   ],
   "source": [
    "ax = sns.boxplot(x=\"Page\", y=\"Time\", data=web_data)"
   ]
  },
  {
   "cell_type": "code",
   "execution_count": 8,
   "metadata": {},
   "outputs": [],
   "source": [
    "mean_time_pageA = web_data_pageA.Time.mean()\n",
    "mean_time_pageB = web_data_pageB.Time.mean()"
   ]
  },
  {
   "cell_type": "code",
   "execution_count": 10,
   "metadata": {},
   "outputs": [],
   "source": [
    "difference_in_means = mean_time_pageB - mean_time_pageA"
   ]
  },
  {
   "cell_type": "code",
   "execution_count": 11,
   "metadata": {},
   "outputs": [
    {
     "data": {
      "text/plain": [
       "0.35666666666666713"
      ]
     },
     "execution_count": 11,
     "metadata": {},
     "output_type": "execute_result"
    }
   ],
   "source": [
    "difference_in_means"
   ]
  },
  {
   "cell_type": "markdown",
   "metadata": {},
   "source": [
    "### Is this difference statistically significant?\n",
    "permutation_test:\n",
    "1. Mix the data, such that n = n1 + n2\n",
    "2. Randomly create two new sample\n",
    "3.  check the difference in time\n",
    "\n",
    "Let's start with the first step: Create two random samples\n",
    "For our random sampling problem, we needed:\n",
    "1. A specified sample size\n",
    "2. A specified number of samples\n",
    "3. Sampling without replacement\n",
    "4. A specified inclusion probability of each element’s inclusion in a given sample"
   ]
  },
  {
   "cell_type": "code",
   "execution_count": 16,
   "metadata": {},
   "outputs": [
    {
     "name": "stdout",
     "output_type": "stream",
     "text": [
      "sample size A = 21 sample size B = 15\n"
     ]
    }
   ],
   "source": [
    "sample_size_A = len(web_data_pageA)\n",
    "sample_size_B = len(web_data_pageB)\n",
    "print('sample size A =', sample_size_A, 'sample size B =', sample_size_B)"
   ]
  },
  {
   "cell_type": "code",
   "execution_count": 49,
   "metadata": {},
   "outputs": [],
   "source": [
    "def create_random_sample(size_group_1: int, data: pd.DataFrame) -> (pd.DataFrame, pd.DataFrame):\n",
    "    random_sample_group_1 = data.sample(n=size_group_1, replace=False)\n",
    "    random_sample_group_2 = data[~data.isin(random_sample_group_1)].dropna()\n",
    "    return random_sample_group_1, random_sample_group_2"
   ]
  },
  {
   "cell_type": "code",
   "execution_count": 51,
   "metadata": {},
   "outputs": [],
   "source": [
    "def permutation_metric(size_group_1: int, data: pd.DataFrame, metric: str) -> (float, float):\n",
    "    random_sample_group_1, random_sample_group_2 = create_random_sample(size_group_1, data)\n",
    "    mean_group_1 = random_sample_group_1[metric].mean()\n",
    "    mean_group_2 = random_sample_group_2[metric].mean()\n",
    "    return mean_group_1, mean_group_2"
   ]
  },
  {
   "cell_type": "code",
   "execution_count": 52,
   "metadata": {},
   "outputs": [],
   "source": [
    "def create_metric_distribution(size_group_1: int, data: pd.DataFrame, metric: str, iteration: int) -> list:\n",
    "    metric_list = []\n",
    "    \n",
    "    for _ in range(1, iteration):\n",
    "        mean_group_1, mean_group_2 = permutation_metric(size_group_1, data, metric)\n",
    "        difference_mean = mean_group_2 - mean_group_1\n",
    "        metric_list.append(difference_mean)\n",
    "    return metric_list"
   ]
  },
  {
   "cell_type": "code",
   "execution_count": 68,
   "metadata": {},
   "outputs": [],
   "source": [
    "metric_list = create_metric_distribution(size_group_1=sample_size_A, \n",
    "                                         data=web_data, \n",
    "                                         metric='Time', \n",
    "                                         iteration=10000)"
   ]
  },
  {
   "cell_type": "code",
   "execution_count": 69,
   "metadata": {},
   "outputs": [
    {
     "data": {
      "text/plain": [
       "<matplotlib.lines.Line2D at 0x1a18bba850>"
      ]
     },
     "execution_count": 69,
     "metadata": {},
     "output_type": "execute_result"
    },
    {
     "data": {
      "image/png": "[encoded data removed]",
      "text/plain": [
       "<Figure size 432x288 with 1 Axes>"
      ]
     },
     "metadata": {
      "needs_background": "light"
     },
     "output_type": "display_data"
    }
   ],
   "source": [
    "sns.distplot(metric_list, kde=False, color=\"g\")\n",
    "plt.axvline(difference_in_means)"
   ]
  },
  {
   "cell_type": "markdown",
   "metadata": {},
   "source": [
    "# Is it statistically significant?"
   ]
  },
  {
   "cell_type": "code",
   "execution_count": 70,
   "metadata": {},
   "outputs": [],
   "source": [
    "alpha = 0.05\n",
    "confidence_level = 1 - alpha "
   ]
  },
  {
   "cell_type": "markdown",
   "metadata": {},
   "source": [
    "Calculate the p_value, the probability to get a result at least as extreme as the one we see.\n",
    "\n",
    "Integral of the curve from `difference_in_means` to minus infinity. \n",
    "\n",
    "the sample space is discrete and is all positive integers. Well, then you simply count the occurrences and divide by the total number of events to get your estimate for the probabilities.\n",
    "\n",
    "`metric_list` sum only the value less than `difference_in_means`"
   ]
  },
  {
   "cell_type": "code",
   "execution_count": 71,
   "metadata": {},
   "outputs": [],
   "source": [
    "import scipy.stats\n",
    "kde = scipy.stats.gaussian_kde(metric_list)"
   ]
  },
  {
   "cell_type": "markdown",
   "metadata": {},
   "source": [
    "To get the probability of an observation in some interval:"
   ]
  },
  {
   "cell_type": "code",
   "execution_count": 75,
   "metadata": {},
   "outputs": [],
   "source": [
    "p_value = kde.integrate_box_1d(difference_in_means, max(metric_list))"
   ]
  },
  {
   "cell_type": "markdown",
   "metadata": {},
   "source": [
    "## Finally compare p_value to alpha"
   ]
  },
  {
   "cell_type": "code",
   "execution_count": 76,
   "metadata": {},
   "outputs": [
    {
     "name": "stdout",
     "output_type": "stream",
     "text": [
      "p value 0.14193226935641326 alpha 0.05\n"
     ]
    }
   ],
   "source": [
    "print('p value', p_value, 'alpha', alpha)"
   ]
  },
  {
   "cell_type": "markdown",
   "metadata": {},
   "source": [
    "The observed difference in mean is well between the range of the null hypothesis"
   ]
  }
 ],
 "metadata": {
  "kernelspec": {
   "display_name": "Python 3",
   "language": "python",
   "name": "python3"
  },
  "language_info": {
   "codemirror_mode": {
    "name": "ipython",
    "version": 3
   },
   "file_extension": ".py",
   "mimetype": "text/x-python",
   "name": "python",
   "nbconvert_exporter": "python",
   "pygments_lexer": "ipython3",
   "version": "3.7.6"
  }
 },
 "nbformat": 4,
 "nbformat_minor": 4
}

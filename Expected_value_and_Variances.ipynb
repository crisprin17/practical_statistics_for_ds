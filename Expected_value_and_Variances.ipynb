{
 "cells": [
  {
   "cell_type": "markdown",
   "metadata": {},
   "source": [
    "# Simulate a dataframe in pandas"
   ]
  },
  {
   "cell_type": "code",
   "execution_count": 18,
   "metadata": {},
   "outputs": [],
   "source": [
    "import pandas as pd\n",
    "import numpy as np\n",
    "import math\n",
    "import seaborn as sns"
   ]
  },
  {
   "cell_type": "markdown",
   "metadata": {},
   "source": [
    "# Compare simulation of normal with simulation of averages of standard normal"
   ]
  },
  {
   "cell_type": "markdown",
   "metadata": {},
   "source": [
    "### Simulate a normal distribution"
   ]
  },
  {
   "cell_type": "markdown",
   "metadata": {},
   "source": [
    "`np.random.randn(...)` for standard normal, for a Normal(mu, sigma): `sigma * np.random.randn(...) + mu`"
   ]
  },
  {
   "cell_type": "markdown",
   "metadata": {},
   "source": [
    "Consider simulating a lot of standard normals and plotting a histogram (the blue density). Now\n",
    "consider simulating lots of averages of 10 standard normals and plotting their histogram (the salmon\n",
    "colored density)."
   ]
  },
  {
   "cell_type": "code",
   "execution_count": 46,
   "metadata": {},
   "outputs": [],
   "source": [
    "sigma = 12.5\n",
    "mu = 65"
   ]
  },
  {
   "cell_type": "code",
   "execution_count": 47,
   "metadata": {},
   "outputs": [],
   "source": [
    "d = {'Normal': sigma * np.random.randn(1000) + mu, 'Standard': np.random.randn(1000)}\n",
    "df = pd.DataFrame(data=d)"
   ]
  },
  {
   "cell_type": "markdown",
   "metadata": {},
   "source": [
    "### Simulate average of 10 Standard normal"
   ]
  },
  {
   "cell_type": "code",
   "execution_count": 49,
   "metadata": {},
   "outputs": [],
   "source": [
    "# consider simulating lots of averages of 10 standard normals\n",
    "n = 1000\n",
    "array_of_average = []\n",
    "for i in range(0, n):\n",
    "    average_sn = np.mean(np.random.randn(10))\n",
    "    array_of_average.append(average_sn)"
   ]
  },
  {
   "cell_type": "code",
   "execution_count": 50,
   "metadata": {},
   "outputs": [],
   "source": [
    "df2 = pd.DataFrame(array_of_average, columns=['Average_of_sn'])"
   ]
  },
  {
   "cell_type": "markdown",
   "metadata": {},
   "source": [
    "## Results"
   ]
  },
  {
   "cell_type": "code",
   "execution_count": 57,
   "metadata": {},
   "outputs": [
    {
     "name": "stdout",
     "output_type": "stream",
     "text": [
      "-0.015296391338749184 1.0059187146616084 -0.001169867426940729 0.3209822199819635\n"
     ]
    }
   ],
   "source": [
    "print(df.Standard.mean(), df.Standard.std(), df2.Average_of_sn.mean(), df2.Average_of_sn.std())"
   ]
  },
  {
   "cell_type": "code",
   "execution_count": null,
   "metadata": {},
   "outputs": [],
   "source": [
    "** The standard deviation of an estimator is the standard error **\n",
    "Estimator = distribution of average\n",
    "S.E = sd of the population / sqrt(10)"
   ]
  },
  {
   "cell_type": "code",
   "execution_count": 58,
   "metadata": {},
   "outputs": [
    {
     "data": {
      "text/plain": [
       "<matplotlib.axes._subplots.AxesSubplot at 0x1a1b5cf9d0>"
      ]
     },
     "execution_count": 58,
     "metadata": {},
     "output_type": "execute_result"
    },
    {
     "data": {
      "image/png": "[encoded data removed]",
      "text/plain": [
       "<Figure size 432x288 with 1 Axes>"
      ]
     },
     "metadata": {
      "needs_background": "light"
     },
     "output_type": "display_data"
    }
   ],
   "source": [
    "# 1000  simulated standard normals\n",
    "sns.distplot(df.Standard)\n",
    "sns.distplot(df2.Average_of_sn)"
   ]
  },
  {
   "cell_type": "markdown",
   "metadata": {},
   "source": [
    "Expected values are properties of distributions.\n",
    "\n",
    "    • The population mean is the center of mass of population.\n",
    "    \n",
    "    • The sample mean is the center of mass of the observed data.\n",
    "    \n",
    "    • The sample mean is an estimate of the population mean.\n",
    "    \n",
    "    • The sample mean is unbiased: the population mean of its distribution is the mean that it’s trying to estimate.\n",
    "\n",
    "    • The more data that goes into the sample mean, the more. concentrated its density / mass function is around the population mean\n",
    "    \n",
    "    "
   ]
  },
  {
   "cell_type": "markdown",
   "metadata": {},
   "source": [
    "# Playing a game\n",
    "\n",
    "You are playing a game with a friend where you flip a coin and if it comes up heads you give her X dollars and if it comes up tails she gives you Y dollars. The odds that the coin is heads is d. What is your expected earnings?"
   ]
  },
  {
   "cell_type": "code",
   "execution_count": null,
   "metadata": {},
   "outputs": [],
   "source": [
    "odds = Probability_heads / Probability_is_not_head = Probability_heads / Probability_tail = Probability_heads / (1 - Probability_heads) = d"
   ]
  },
  {
   "cell_type": "code",
   "execution_count": null,
   "metadata": {},
   "outputs": [],
   "source": [
    "Probability_heads = d / (1 + d)\n",
    "Probability_tail = 1 / (1 +d)"
   ]
  },
  {
   "cell_type": "code",
   "execution_count": null,
   "metadata": {},
   "outputs": [],
   "source": [
    "Expected_value = - X * probability_heads + Y * probability_tails ="
   ]
  },
  {
   "cell_type": "markdown",
   "metadata": {},
   "source": [
    "# Calculate expected value of a dice roll\n",
    "A standard die takes the values 1, 2, 3, 4, 5, 6 with equal probability. What is the expected\n",
    "value?"
   ]
  },
  {
   "cell_type": "code",
   "execution_count": 59,
   "metadata": {},
   "outputs": [],
   "source": [
    "n = 6\n",
    "values = [1, 2, 3, 4, 5, 6]\n",
    "prob = 1 / n"
   ]
  },
  {
   "cell_type": "code",
   "execution_count": 62,
   "metadata": {},
   "outputs": [],
   "source": [
    "def calculate_expected_value(prob: float, values: list) -> float:\n",
    "    \n",
    "    expected_values = 0\n",
    "    \n",
    "    for i in values:\n",
    "        expected_values += i * prob\n",
    "        \n",
    "    return expected_values"
   ]
  },
  {
   "cell_type": "code",
   "execution_count": 63,
   "metadata": {},
   "outputs": [
    {
     "data": {
      "text/plain": [
       "3.5"
      ]
     },
     "execution_count": 63,
     "metadata": {},
     "output_type": "execute_result"
    }
   ],
   "source": [
    "calculate_expected_value(prob, values)"
   ]
  },
  {
   "cell_type": "code",
   "execution_count": null,
   "metadata": {},
   "outputs": [],
   "source": [
    "# Simulate random poisson\n",
    "Simulation example 3: Poisson\n",
    "    \n",
    "Poisson(4) random variables have variance 4.\n",
    "Thus means of random samples of n Poisson(4) should\n",
    "have standard deviation 2/√n. Again let’s try it out.\n",
    "\n",
    "\n",
    "Poisson function return the probability of k events occurring within the observed interval \\lambda."
   ]
  },
  {
   "cell_type": "code",
   "execution_count": 68,
   "metadata": {},
   "outputs": [],
   "source": [
    "nosim = 1000\n",
    "n = 10\n",
    "lambda_value = 4\n",
    "\n",
    "mean_of_poisson = [np.mean(np.random.poisson(lambda_value, n)) for i in range(0, 1000)]\n"
   ]
  },
  {
   "cell_type": "code",
   "execution_count": 74,
   "metadata": {},
   "outputs": [
    {
     "data": {
      "text/plain": [
       "0.6274868524519059"
      ]
     },
     "execution_count": 74,
     "metadata": {},
     "output_type": "execute_result"
    }
   ],
   "source": [
    "np.mean(mean_of_poisson)\n",
    "np.std(mean_of_poisson)"
   ]
  },
  {
   "cell_type": "code",
   "execution_count": null,
   "metadata": {},
   "outputs": [],
   "source": [
    "variance = 4\n",
    "sigma = sqrt(variance) = 2\n",
    "np.std(mean_of_poisson) = sigma / sqrt(10)"
   ]
  },
  {
   "cell_type": "markdown",
   "metadata": {},
   "source": [
    "# Variance"
   ]
  },
  {
   "cell_type": "markdown",
   "metadata": {},
   "source": [
    "A random variable takes the value -4 with probability .2 and 1 with probability .8. What is\n",
    "the variance of this random variable?"
   ]
  },
  {
   "cell_type": "code",
   "execution_count": null,
   "metadata": {},
   "outputs": [],
   "source": [
    "Var(x) = 4"
   ]
  },
  {
   "cell_type": "code",
   "execution_count": null,
   "metadata": {},
   "outputs": [],
   "source": []
  },
  {
   "cell_type": "code",
   "execution_count": null,
   "metadata": {},
   "outputs": [],
   "source": []
  },
  {
   "cell_type": "code",
   "execution_count": null,
   "metadata": {},
   "outputs": [],
   "source": [
    "If X¯ and Y¯ are comprised of n iid random variables arising from distributions having means\n",
    "µx and µy, respectively and common variance σ^2 what is the variance (X¯ −Y¯) ?"
   ]
  },
  {
   "cell_type": "code",
   "execution_count": null,
   "metadata": {},
   "outputs": [],
   "source": [
    "Var(X) and Var(Y) are sample variation from distribution = sigma^2 / n\n",
    "Var(X - Y) = Var(X) - Var(Y) = sigma^2 / n + sigma^2 / n "
   ]
  },
  {
   "cell_type": "code",
   "execution_count": null,
   "metadata": {},
   "outputs": [],
   "source": []
  },
  {
   "cell_type": "code",
   "execution_count": null,
   "metadata": {},
   "outputs": [],
   "source": []
  },
  {
   "cell_type": "code",
   "execution_count": null,
   "metadata": {},
   "outputs": [],
   "source": [
    "Let X be a random variable having standard deviation σ. What can be said about the variance\n",
    "of X/σ?"
   ]
  },
  {
   "cell_type": "code",
   "execution_count": null,
   "metadata": {},
   "outputs": [],
   "source": []
  }
 ],
 "metadata": {
  "kernelspec": {
   "display_name": "Python 3",
   "language": "python",
   "name": "python3"
  },
  "language_info": {
   "codemirror_mode": {
    "name": "ipython",
    "version": 3
   },
   "file_extension": ".py",
   "mimetype": "text/x-python",
   "name": "python",
   "nbconvert_exporter": "python",
   "pygments_lexer": "ipython3",
   "version": "3.7.6"
  }
 },
 "nbformat": 4,
 "nbformat_minor": 4
}

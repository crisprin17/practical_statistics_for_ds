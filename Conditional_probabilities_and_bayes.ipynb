{
 "cells": [
  {
   "cell_type": "markdown",
   "metadata": {},
   "source": [
    "### exercise: passing the interview\n",
    "What is the probability to pass the stat interview given that you need to pass the coding interview?\n",
    "\n",
    "$$ probabilitytopassstatgivenpasscoding = \\frac{probabilitytopasscodinggivenpassstat * probabilitytopassstat}{probabilitytopasscoding}$$"
   ]
  },
  {
   "cell_type": "code",
   "execution_count": 1,
   "metadata": {},
   "outputs": [],
   "source": [
    "probability_to_pass_stat = 0.25\n",
    "probability_to_fail_stat = 0.75\n",
    "probability_to_pass_coding_given_pass_stat = 0.40\n",
    "probability_to_pass_coding_given_fail_stat = 0.20"
   ]
  },
  {
   "cell_type": "code",
   "execution_count": 2,
   "metadata": {},
   "outputs": [],
   "source": [
    "numerator = probability_to_pass_coding_given_pass_stat * probability_to_pass_stat"
   ]
  },
  {
   "cell_type": "markdown",
   "metadata": {},
   "source": [
    "probability to pass coding =\n",
    "\n",
    "(probability_to_pass_coding_given_pass_stat * probability_to_pass_stat) + (probability_to_pass_coding_given_fail_stat * probability_to_fail_stat)"
   ]
  },
  {
   "cell_type": "code",
   "execution_count": 3,
   "metadata": {},
   "outputs": [],
   "source": [
    "probability_to_pass_coding =(probability_to_pass_coding_given_pass_stat * probability_to_pass_stat) + (probability_to_pass_coding_given_fail_stat * probability_to_fail_stat)"
   ]
  },
  {
   "cell_type": "code",
   "execution_count": 4,
   "metadata": {},
   "outputs": [],
   "source": [
    "probability_to_pass_stat_given_pass_coding = numerator / probability_to_pass_coding"
   ]
  },
  {
   "cell_type": "code",
   "execution_count": 5,
   "metadata": {},
   "outputs": [
    {
     "data": {
      "text/plain": [
       "0.3478260869565218"
      ]
     },
     "execution_count": 5,
     "metadata": {},
     "output_type": "execute_result"
    }
   ],
   "source": [
    "probability_to_pass_stat_given_pass_coding"
   ]
  },
  {
   "cell_type": "markdown",
   "metadata": {},
   "source": [
    "## The disease problem\n",
    "\n",
    "You're testing for a disease and advertising that the test is 99% accurate; \n",
    "that is if you have the disease, you will test positive 99% of the time, and if you don't have the disease, you will test negative 99% of the time.\n",
    "Let's say that 1% of all people have the disease and someone tests positive. \n",
    "What's the probability that the person has the disease? \n",
    "\n",
    "$$ have_disease_given_that_you_test_positive = \\frac{test_positive_given_you_have_disease * probability_you_have_disease}{probability_you_test_positive} $$"
   ]
  },
  {
   "cell_type": "code",
   "execution_count": 6,
   "metadata": {},
   "outputs": [],
   "source": [
    "test_positive_given_you_have_disease = 0.99\n",
    "test_negative_given_you_NOT_have_disease = 0.99\n",
    "probability_you_have_disease = 0.01\n",
    "probability_you_NOT_have_disease = 0.99"
   ]
  },
  {
   "cell_type": "markdown",
   "metadata": {},
   "source": [
    "What is the probability that you test positive?\n",
    "= probability that you have the disease and you test positive plus the probability that you do not have the disease and you test positive"
   ]
  },
  {
   "cell_type": "code",
   "execution_count": 7,
   "metadata": {},
   "outputs": [],
   "source": [
    "probability_test_positive = (test_positive_given_you_have_disease * probability_you_have_disease) + ( test_negative_given_you_NOT_have_disease * 0.01 )"
   ]
  },
  {
   "cell_type": "code",
   "execution_count": 8,
   "metadata": {},
   "outputs": [],
   "source": [
    "prob_have_disease_given_that_you_test_positive = (test_positive_given_you_have_disease * probability_you_have_disease) / probability_test_positive"
   ]
  },
  {
   "cell_type": "code",
   "execution_count": 9,
   "metadata": {},
   "outputs": [
    {
     "data": {
      "text/plain": [
       "0.5"
      ]
     },
     "execution_count": 9,
     "metadata": {},
     "output_type": "execute_result"
    }
   ],
   "source": [
    "prob_have_disease_given_that_you_test_positive"
   ]
  },
  {
   "cell_type": "markdown",
   "metadata": {},
   "source": [
    "## Bayes coin\n",
    "You have two coins in your hand. Out of the two coins, one is a real coin (heads and tails) and the other is a faulty coin with tails on both sides.\n",
    "\n",
    "You are blindfolded and forced to choose a random coin and then toss it in the air. The coin lands with tails facing upwards. Find the probability that this is the faulty coin.\n",
    "\n",
    "$$ Probability of fault coin given that you have tail = \\frac{prob that you get tail given a faul coin * prob to get a fault coin}{ prob to get tail}$$"
   ]
  },
  {
   "cell_type": "code",
   "execution_count": 12,
   "metadata": {},
   "outputs": [],
   "source": [
    "prob_get_tail_with_fault_coin = 1.0\n",
    "prob_get_tail_with_real_coin = 0.5\n",
    "prob_get_fault_coin = 0.5\n",
    "prob_get_real_coin = 0.5"
   ]
  },
  {
   "cell_type": "code",
   "execution_count": 13,
   "metadata": {},
   "outputs": [],
   "source": [
    "prob_get_tail = (prob_get_tail_with_fault_coin * prob_get_fault_coin) + (prob_get_tail_with_real_coin * prob_get_real_coin)"
   ]
  },
  {
   "cell_type": "code",
   "execution_count": 14,
   "metadata": {},
   "outputs": [
    {
     "data": {
      "text/plain": [
       "0.75"
      ]
     },
     "execution_count": 14,
     "metadata": {},
     "output_type": "execute_result"
    }
   ],
   "source": [
    "prob_get_tail"
   ]
  },
  {
   "cell_type": "code",
   "execution_count": 15,
   "metadata": {},
   "outputs": [],
   "source": [
    "prob_fault_coin_given_tail = (prob_get_tail_with_fault_coin * prob_get_fault_coin) / prob_get_tail"
   ]
  },
  {
   "cell_type": "code",
   "execution_count": 16,
   "metadata": {},
   "outputs": [
    {
     "data": {
      "text/plain": [
       "0.6666666666666666"
      ]
     },
     "execution_count": 16,
     "metadata": {},
     "output_type": "execute_result"
    }
   ],
   "source": [
    "prob_fault_coin_given_tail"
   ]
  },
  {
   "cell_type": "code",
   "execution_count": null,
   "metadata": {},
   "outputs": [],
   "source": []
  }
 ],
 "metadata": {
  "kernelspec": {
   "display_name": "Python 3",
   "language": "python",
   "name": "python3"
  },
  "language_info": {
   "codemirror_mode": {
    "name": "ipython",
    "version": 3
   },
   "file_extension": ".py",
   "mimetype": "text/x-python",
   "name": "python",
   "nbconvert_exporter": "python",
   "pygments_lexer": "ipython3",
   "version": "3.8.2"
  }
 },
 "nbformat": 4,
 "nbformat_minor": 4
}

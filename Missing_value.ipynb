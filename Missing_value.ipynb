{
 "cells": [
  {
   "cell_type": "markdown",
   "metadata": {},
   "source": [
    "# Handling null values\n",
    "Let's practice handling null values with our laptops dataset that we worked with previously. You will identify rows with null values, and then try out several techniques to address this problem.\n",
    "\n",
    "Remember that the laptops data and the pandas package have been imported for you already."
   ]
  },
  {
   "cell_type": "code",
   "execution_count": null,
   "metadata": {},
   "outputs": [],
   "source": [
    "# Identify and print the the rows with null values\n",
    "nulls = laptops[laptops.isnull().any(axis=1)]\n",
    "print(nulls)"
   ]
  },
  {
   "cell_type": "code",
   "execution_count": null,
   "metadata": {},
   "outputs": [],
   "source": [
    "# Impute median price and print the head\n",
    "laptops.fillna(laptops.Price.median(), inplace=True)\n",
    "print(laptops.head())"
   ]
  },
  {
   "cell_type": "markdown",
   "metadata": {},
   "source": [
    "# outliers"
   ]
  },
  {
   "cell_type": "code",
   "execution_count": null,
   "metadata": {},
   "outputs": [],
   "source": [
    "# Calculate the mean and std\n",
    "mean, std = laptops['Price'].mean(), laptops['Price'].std()\n",
    "\n",
    "# Compute and print the upper and lower threshold\n",
    "cut_off = std * 3\n",
    "lower, upper = mean - cut_off, mean + cut_off\n",
    "print(lower, 'to', upper)\n",
    "\n",
    "# Identify and print rows with outliers\n",
    "outliers = laptops[(laptops['Price'] > upper) | \n",
    "                   (laptops['Price'] < lower)]\n",
    "print(outliers)\n",
    "\n",
    "# Drop the rows from the dataset\n",
    "laptops = laptops[(laptops['Price'] <= upper) | \n",
    "                  (laptops['Price'] >= lower)]"
   ]
  }
 ],
 "metadata": {
  "kernelspec": {
   "display_name": "Python 3",
   "language": "python",
   "name": "python3"
  },
  "language_info": {
   "codemirror_mode": {
    "name": "ipython",
    "version": 3
   },
   "file_extension": ".py",
   "mimetype": "text/x-python",
   "name": "python",
   "nbconvert_exporter": "python",
   "pygments_lexer": "ipython3",
   "version": "3.7.6"
  }
 },
 "nbformat": 4,
 "nbformat_minor": 4
}
